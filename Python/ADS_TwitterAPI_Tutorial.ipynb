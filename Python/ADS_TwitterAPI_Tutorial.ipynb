{
  "nbformat": 4,
  "nbformat_minor": 0,
  "metadata": {
    "colab": {
      "name": "ADS_TwitterAPI_Tutorial.ipynb",
      "version": "0.3.2",
      "views": {},
      "default_view": {},
      "provenance": []
    },
    "kernelspec": {
      "name": "python3",
      "display_name": "Python 3"
    }
  },
  "cells": [
    {
      "metadata": {
        "id": "mlt_b-9Zc850",
        "colab_type": "text"
      },
      "cell_type": "markdown",
      "source": [
        "# IU Applied Data Science (INFO_I-590)\n",
        "### Instructor: Joanne Luciano ; TAs: Jeremy Yang and Kaicheng Yang\n",
        "# ADS Twitter API Tutorial\n",
        "### Based on original tutorial and code by former TA JT Wolohan.\n",
        "https://media.readthedocs.org/pdf/twitterapi/latest/twitterapi.pdf"
      ]
    },
    {
      "metadata": {
        "id": "yVwa-KbBdYd3",
        "colab_type": "code",
        "colab": {
          "autoexec": {
            "startup": false,
            "wait_interval": 0
          }
        }
      },
      "cell_type": "code",
      "source": [
        "import os, json\n",
        "import pandas\n",
        "import numpy\n",
        "import sklearn\n",
        "import sklearn.feature_extraction\n",
        "import sklearn.model_selection \n",
        "import sklearn.metrics \n",
        "import sklearn.naive_bayes\n",
        "import sklearn.svm\n",
        "import sklearn.neighbors\n",
        "import sklearn.neural_network\n",
        "!pip install TwitterAPI\n",
        "from TwitterAPI import TwitterAPI, TwitterOAuth"
      ],
      "execution_count": 0,
      "outputs": []
    },
    {
      "metadata": {
        "id": "G1AbXHO47XTk",
        "colab_type": "text"
      },
      "cell_type": "markdown",
      "source": [
        "### Twitter API Credentials\n",
        "### (IN ACCORDANCE WITH TWITTER LICENSE AGGREEMENT, DO NOT COPY, USE ONLY YOUR OWN CREDENTIALS.)"
      ]
    },
    {
      "metadata": {
        "id": "VG9PaRu_8Ekk",
        "colab_type": "code",
        "colab": {
          "autoexec": {
            "startup": false,
            "wait_interval": 0
          }
        }
      },
      "cell_type": "code",
      "source": [
        "consumer_key_b64 = 'cmJqbG1US1JwdU04ZXhJQlBPWnlvbFZRSw=='\n",
        "consumer_secret_b64  = 'enNrMjdSNGlLbElOUzN4YWk3WHFzQnAxVkdyaU1xU0FFYzlDSGd5SUhselZvRjZ1dmw='\n",
        "access_token_key_b64 = 'NjY4MzUxMDMtN3dKUFpPUHhjZERzbkY0RkViQ0E3RlFnYjhENEFQYjk1TDhaaWZrZUo='\n",
        "access_token_secret_b64 = 'S0dDczUyZnZvRjhRRDZPcktEU3JxRlFhSWZOZkRnTng2aWJlWUVrZWt0Y3F0'"
      ],
      "execution_count": 0,
      "outputs": []
    },
    {
      "metadata": {
        "id": "8hghssyi8LMy",
        "colab_type": "text"
      },
      "cell_type": "markdown",
      "source": [
        "### SAVE YOUR APPLICATION CREDENTIALS\n",
        "Credentials file format:\n",
        "\n",
        "```\n",
        "consumer_key=YOUR_CONSUMER_KEY\n",
        "consumer_secret=YOUR_CONSUMER_SECRET\n",
        "access_token_key=YOUR_ACCESS_TOKEN\n",
        "access_token_secret=YOUR_ACCESS_TOKEN_SECRET\n",
        "```"
      ]
    },
    {
      "metadata": {
        "id": "b1lQ1tomuf5R",
        "colab_type": "code",
        "colab": {
          "autoexec": {
            "startup": false,
            "wait_interval": 0
          }
        }
      },
      "cell_type": "code",
      "source": [
        "from base64 import b64decode\n",
        "\n",
        "consumer_key = str(b64decode(consumer_key_b64), 'utf8')\n",
        "consumer_secret = str(b64decode(consumer_secret_b64), 'utf8')\n",
        "access_token_key = str(b64decode(access_token_key_b64), 'utf8')\n",
        "access_token_secret = str(b64decode(access_token_secret_b64), 'utf8')\n",
        "\n",
        "fpath = os.environ['HOME']+'/.twitterapi_credentials'\n",
        "fout = open(fpath, \"w\")\n",
        "fout.write(\"consumer_key=%s\\n\"%consumer_key)\n",
        "fout.write(\"consumer_secret=%s\\n\"%consumer_secret)\n",
        "fout.write(\"access_token_key=%s\\n\"%access_token_key)\n",
        "fout.write(\"access_token_secret=%s\\n\"%access_token_secret)\n",
        "fout.close()"
      ],
      "execution_count": 0,
      "outputs": []
    },
    {
      "metadata": {
        "id": "kgipsCAp8XPd",
        "colab_type": "text"
      },
      "cell_type": "markdown",
      "source": [
        "### Connect and authenticate with Twitter REST API."
      ]
    },
    {
      "metadata": {
        "id": "mL67_07hhgjN",
        "colab_type": "code",
        "colab": {
          "autoexec": {
            "startup": false,
            "wait_interval": 0
          }
        }
      },
      "cell_type": "code",
      "source": [
        "o = TwitterOAuth.read_file(os.environ['HOME']+'/.twitterapi_credentials')\n",
        "twapi = TwitterAPI(o.consumer_key, o.consumer_secret, o.access_token_key, o.access_token_secret)"
      ],
      "execution_count": 0,
      "outputs": []
    },
    {
      "metadata": {
        "id": "8Pre07_hhu0i",
        "colab_type": "text"
      },
      "cell_type": "markdown",
      "source": [
        "### Convenience functions"
      ]
    },
    {
      "metadata": {
        "id": "qgSLutbrhy3G",
        "colab_type": "code",
        "colab": {
          "autoexec": {
            "startup": false,
            "wait_interval": 0
          }
        }
      },
      "cell_type": "code",
      "source": [
        "def print_score(Ytrue,Ypred):\n",
        "  s = (sklearn.metrics.precision_score(Ytrue,Ypred),\n",
        "          sklearn.metrics.recall_score(Ytrue,Ypred),\n",
        "          sklearn.metrics.f1_score(Ytrue,Ypred))\n",
        "  print('Precision: {:0.3}\\nRecall: {:0.3}\\nF-Score: {:0.3}\\n'.format(*s))\n",
        "\n",
        "\n",
        "def searchTwitter(q,api,feed=\"search/tweets\",n=100):\n",
        "  return [t for t in api.request(feed, {'q':q,'count':n})]"
      ],
      "execution_count": 0,
      "outputs": []
    },
    {
      "metadata": {
        "id": "tySFMqpDh5oB",
        "colab_type": "text"
      },
      "cell_type": "markdown",
      "source": [
        "### Get JSON from Twitter"
      ]
    },
    {
      "metadata": {
        "id": "rXeIIMz3iCpZ",
        "colab_type": "code",
        "colab": {
          "autoexec": {
            "startup": false,
            "wait_interval": 0
          }
        }
      },
      "cell_type": "code",
      "source": [
        "cat_tweets = searchTwitter('#cats', twapi, n=100)\n",
        "dog_tweets = searchTwitter('#dogs', twapi, n=100)"
      ],
      "execution_count": 0,
      "outputs": []
    },
    {
      "metadata": {
        "id": "nM6Q7ZS5iEft",
        "colab_type": "text"
      },
      "cell_type": "markdown",
      "source": [
        "### Convert the json returned by Twitter into a dataframe"
      ]
    },
    {
      "metadata": {
        "id": "Yk9_CK5WiJyG",
        "colab_type": "code",
        "colab": {
          "autoexec": {
            "startup": false,
            "wait_interval": 0
          }
        }
      },
      "cell_type": "code",
      "source": [
        "cat_df = pandas.read_json(json.dumps(cat_tweets))\n",
        "dog_df = pandas.read_json(json.dumps(dog_tweets))"
      ],
      "execution_count": 0,
      "outputs": []
    },
    {
      "metadata": {
        "id": "Mmz_Lwc0iduH",
        "colab_type": "text"
      },
      "cell_type": "markdown",
      "source": [
        "### Inspect data frames.\n"
      ]
    },
    {
      "metadata": {
        "id": "Fby0bwtAkFdx",
        "colab_type": "code",
        "colab": {
          "autoexec": {
            "startup": false,
            "wait_interval": 0
          }
        }
      },
      "cell_type": "code",
      "source": [
        "cat_df.head()\n",
        "dog_df.head()"
      ],
      "execution_count": 0,
      "outputs": []
    },
    {
      "metadata": {
        "id": "JppvQsvWkOBn",
        "colab_type": "text"
      },
      "cell_type": "markdown",
      "source": [
        "### Get text only and replace hashtags with blanks\n",
        "If you want to use the normalizer, import it above and pass x.replace() to the noramlizer function"
      ]
    },
    {
      "metadata": {
        "id": "aAprJdgsikzN",
        "colab_type": "code",
        "colab": {
          "autoexec": {
            "startup": false,
            "wait_interval": 0
          }
        }
      },
      "cell_type": "code",
      "source": [
        "cat_txt = [x.replace('#cats',\"\") for x in cat_df['text']]\n",
        "dog_txt = [x.replace('#dogs',\"\") for x in dog_df['text']]"
      ],
      "execution_count": 0,
      "outputs": []
    },
    {
      "metadata": {
        "id": "eN8RwEBAipK2",
        "colab_type": "text"
      },
      "cell_type": "markdown",
      "source": [
        "### Create features and return sparse matricies"
      ]
    },
    {
      "metadata": {
        "id": "AuLiEwH5ixTo",
        "colab_type": "code",
        "colab": {
          "autoexec": {
            "startup": false,
            "wait_interval": 0
          }
        }
      },
      "cell_type": "code",
      "source": [
        "vectorizer = sklearn.feature_extraction.text.CountVectorizer(cat_txt+dog_txt)\n",
        "vectorizer.fit(cat_txt+dog_txt)\n",
        "cat_tdm = vectorizer.transform(cat_txt).toarray()\n",
        "dog_tdm = vectorizer.transform(dog_txt).toarray()"
      ],
      "execution_count": 0,
      "outputs": []
    },
    {
      "metadata": {
        "id": "mlM3jH-ei1L_",
        "colab_type": "text"
      },
      "cell_type": "markdown",
      "source": [
        "### Create visible matricies and combine"
      ]
    },
    {
      "metadata": {
        "id": "oAns1st8i5Ia",
        "colab_type": "code",
        "colab": {
          "autoexec": {
            "startup": false,
            "wait_interval": 0
          }
        }
      },
      "cell_type": "code",
      "source": [
        "zeros = numpy.zeros((len(cat_txt),1))\n",
        "ones = numpy.ones((len(dog_txt),1))\n",
        "catdog_tdm = numpy.concatenate((cat_tdm,dog_tdm),axis=0)\n",
        "Y = numpy.ravel(numpy.concatenate((zeros,ones),axis=0))"
      ],
      "execution_count": 0,
      "outputs": []
    },
    {
      "metadata": {
        "id": "Lj00pvjOi9N9",
        "colab_type": "text"
      },
      "cell_type": "markdown",
      "source": [
        "### Create train/test split for modeling"
      ]
    },
    {
      "metadata": {
        "id": "4hbhx-3SjClZ",
        "colab_type": "code",
        "colab": {
          "autoexec": {
            "startup": false,
            "wait_interval": 0
          }
        }
      },
      "cell_type": "code",
      "source": [
        "Xtrain,Xtest,Ytrain,Ytest = sklearn.model_selection.train_test_split(catdog_tdm, Y, test_size=.25)"
      ],
      "execution_count": 0,
      "outputs": []
    },
    {
      "metadata": {
        "id": "XH6OzR_-jHIn",
        "colab_type": "text"
      },
      "cell_type": "markdown",
      "source": [
        "### Naive Bayes"
      ]
    },
    {
      "metadata": {
        "id": "cNL--wQajNwc",
        "colab_type": "code",
        "colab": {
          "autoexec": {
            "startup": false,
            "wait_interval": 0
          }
        }
      },
      "cell_type": "code",
      "source": [
        "nb = sklearn.naive_bayes.GaussianNB()\n",
        "nb.fit(Xtrain,Ytrain)\n",
        "Ypred = nb.predict(Xtest)\n",
        "\n",
        "print(\"\\nNaive Bayes Performance\")\n",
        "print_score(Ytest,Ypred)"
      ],
      "execution_count": 0,
      "outputs": []
    },
    {
      "metadata": {
        "id": "rZ5gbP0SjW8L",
        "colab_type": "text"
      },
      "cell_type": "markdown",
      "source": [
        "### SVM"
      ]
    },
    {
      "metadata": {
        "id": "pGUSdniLjddp",
        "colab_type": "code",
        "colab": {
          "autoexec": {
            "startup": false,
            "wait_interval": 0
          }
        }
      },
      "cell_type": "code",
      "source": [
        "svm = sklearn.svm.SVC()\n",
        "svm.fit(Xtrain,Ytrain)\n",
        "Ypred = svm.predict(Xtest)\n",
        "\n",
        "print(\"\\nSVM performance\")\n",
        "print_score(Ytest,Ypred)"
      ],
      "execution_count": 0,
      "outputs": []
    },
    {
      "metadata": {
        "id": "UrCoOB0Mjex-",
        "colab_type": "text"
      },
      "cell_type": "markdown",
      "source": [
        "### Neural Network"
      ]
    },
    {
      "metadata": {
        "id": "tcqhk3ZGjlK5",
        "colab_type": "code",
        "colab": {
          "autoexec": {
            "startup": false,
            "wait_interval": 0
          }
        }
      },
      "cell_type": "code",
      "source": [
        "nn = sklearn.neural_network.MLPClassifier()\n",
        "nn.fit(Xtrain,Ytrain)\n",
        "Ypred = nn.predict(Xtest)\n",
        "\n",
        "print(\"\\nNeural Network Performance\")\n",
        "print_score(Ytest,Ypred)"
      ],
      "execution_count": 0,
      "outputs": []
    },
    {
      "metadata": {
        "id": "HSWJk3Lvjmp0",
        "colab_type": "text"
      },
      "cell_type": "markdown",
      "source": [
        "### KNN"
      ]
    },
    {
      "metadata": {
        "id": "rnzJ8LDfjs2c",
        "colab_type": "code",
        "colab": {
          "autoexec": {
            "startup": false,
            "wait_interval": 0
          }
        }
      },
      "cell_type": "code",
      "source": [
        "knn1 = sklearn.neighbors.KNeighborsClassifier(n_neighbors=1)\n",
        "knn5 = sklearn.neighbors.KNeighborsClassifier(n_neighbors=5)\n",
        "knn5d = sklearn.neighbors.KNeighborsClassifier(n_neighbors=5,weights='distance')\n",
        "\n",
        "knn1.fit(Xtrain,Ytrain)\n",
        "knn5.fit(Xtrain,Ytrain)\n",
        "knn5d.fit(Xtrain,Ytrain)\n",
        "\n",
        "print(\"\\nKNN 1 Neighbor Performance\")\n",
        "print_score(Ytest,knn1.predict(Xtest))\n",
        "\n",
        "print(\"\\nKNN 5 Neighbor Performance\")\n",
        "print_score(Ytest,knn5.predict(Xtest))\n",
        "\n",
        "print(\"\\nKNN 5 Neighbor Weighted Performance\")\n",
        "print_score(Ytest,knn5d.predict(Xtest))"
      ],
      "execution_count": 0,
      "outputs": []
    }
  ]
}