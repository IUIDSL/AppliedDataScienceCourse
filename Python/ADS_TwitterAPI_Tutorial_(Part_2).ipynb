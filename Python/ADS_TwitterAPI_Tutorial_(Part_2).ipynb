{
  "nbformat": 4,
  "nbformat_minor": 0,
  "metadata": {
    "colab": {
      "name": "ADS_TwitterAPI_Tutorial (Part 2).ipynb",
      "version": "0.3.2",
      "views": {},
      "default_view": {},
      "provenance": [
        {
          "file_id": "1MJxtSxp23ArWpGISCwQKtNL1ls0zvJxP",
          "timestamp": 1519832345203
        }
      ]
    },
    "kernelspec": {
      "name": "python3",
      "display_name": "Python 3"
    }
  },
  "cells": [
    {
      "metadata": {
        "id": "mlt_b-9Zc850",
        "colab_type": "text"
      },
      "cell_type": "markdown",
      "source": [
        "# IU Applied Data Science (INFO_I-590)\n",
        "### Instructor: Joanne Luciano ; TAs: Jeremy Yang and Kaicheng Yang\n",
        "# ADS Twitter API Tutorial (Part 2): Feature vectorization and other text processing details\n",
        "### Based on original tutorial and code by former TA JT Wolohan.\n",
        "### *NOTE: This tutorial code does NOT fulfill all requrements of assignment.  It provides a good start!*\n",
        "### References:\n",
        "\n",
        "*   https://apps.twitter.com/\n",
        "*   https://github.com/geduldig/TwitterAPI\n",
        "*   https://media.readthedocs.org/pdf/twitterapi/latest/twitterapi.pdf"
      ]
    },
    {
      "metadata": {
        "id": "oqsZ9yPpoKzM",
        "colab_type": "text"
      },
      "cell_type": "markdown",
      "source": [
        "### Import packages"
      ]
    },
    {
      "metadata": {
        "id": "yVwa-KbBdYd3",
        "colab_type": "code",
        "colab": {
          "autoexec": {
            "startup": false,
            "wait_interval": 0
          },
          "output_extras": [
            {
              "item_id": 2
            }
          ],
          "base_uri": "https://localhost:8080/",
          "height": 161
        },
        "outputId": "3e41c398-5dd4-46a5-b36b-5897bfe32726",
        "executionInfo": {
          "status": "ok",
          "timestamp": 1519919100605,
          "user_tz": 420,
          "elapsed": 2860,
          "user": {
            "displayName": "Jeremy Yang",
            "photoUrl": "//lh4.googleusercontent.com/-oulNnl1aBlA/AAAAAAAAAAI/AAAAAAAAAm4/uOczRUUkS4g/s50-c-k-no/photo.jpg",
            "userId": "102807397641040966212"
          }
        }
      },
      "cell_type": "code",
      "source": [
        "import os, json\n",
        "import pandas\n",
        "import numpy\n",
        "import sklearn\n",
        "import sklearn.feature_extraction\n",
        "import sklearn.model_selection \n",
        "import sklearn.metrics \n",
        "import sklearn.naive_bayes\n",
        "import sklearn.svm\n",
        "import sklearn.neighbors\n",
        "import sklearn.neural_network\n",
        "!pip install TwitterAPI\n",
        "from TwitterAPI import TwitterAPI, TwitterOAuth"
      ],
      "execution_count": 30,
      "outputs": [
        {
          "output_type": "stream",
          "text": [
            "Requirement already satisfied: TwitterAPI in /usr/local/lib/python3.6/dist-packages\r\n",
            "Requirement already satisfied: requests in /usr/local/lib/python3.6/dist-packages (from TwitterAPI)\r\n",
            "Requirement already satisfied: requests-oauthlib in /usr/local/lib/python3.6/dist-packages (from TwitterAPI)\n",
            "Requirement already satisfied: certifi>=2017.4.17 in /usr/local/lib/python3.6/dist-packages (from requests->TwitterAPI)\n",
            "Requirement already satisfied: urllib3<1.23,>=1.21.1 in /usr/local/lib/python3.6/dist-packages (from requests->TwitterAPI)\n",
            "Requirement already satisfied: idna<2.7,>=2.5 in /usr/local/lib/python3.6/dist-packages (from requests->TwitterAPI)\n",
            "Requirement already satisfied: chardet<3.1.0,>=3.0.2 in /usr/local/lib/python3.6/dist-packages (from requests->TwitterAPI)\n",
            "Requirement already satisfied: oauthlib>=0.6.2 in /usr/local/lib/python3.6/dist-packages (from requests-oauthlib->TwitterAPI)\n"
          ],
          "name": "stdout"
        }
      ]
    },
    {
      "metadata": {
        "id": "G1AbXHO47XTk",
        "colab_type": "text"
      },
      "cell_type": "markdown",
      "source": [
        "### Twitter API Credentials (IN ACCORDANCE WITH TWITTER EULA, DO NOT COPY, USE ONLY YOUR CREDENTIALS.)"
      ]
    },
    {
      "metadata": {
        "id": "VG9PaRu_8Ekk",
        "colab_type": "code",
        "colab": {
          "autoexec": {
            "startup": false,
            "wait_interval": 0
          }
        }
      },
      "cell_type": "code",
      "source": [
        "consumer_key_b64 = 'cmJqbG1US1JwdU04ZXhJQlBPWnlvbFZRSw=='\n",
        "consumer_secret_b64  = 'enNrMjdSNGlLbElOUzN4YWk3WHFzQnAxVkdyaU1xU0FFYzlDSGd5SUhselZvRjZ1dmw='\n",
        "access_token_key_b64 = 'NjY4MzUxMDMtN3dKUFpPUHhjZERzbkY0RkViQ0E3RlFnYjhENEFQYjk1TDhaaWZrZUo='\n",
        "access_token_secret_b64 = 'S0dDczUyZnZvRjhRRDZPcktEU3JxRlFhSWZOZkRnTng2aWJlWUVrZWt0Y3F0'"
      ],
      "execution_count": 0,
      "outputs": []
    },
    {
      "metadata": {
        "id": "8hghssyi8LMy",
        "colab_type": "text"
      },
      "cell_type": "markdown",
      "source": [
        "### SAVE YOUR APPLICATION CREDENTIALS"
      ]
    },
    {
      "metadata": {
        "id": "b1lQ1tomuf5R",
        "colab_type": "code",
        "colab": {
          "autoexec": {
            "startup": false,
            "wait_interval": 0
          }
        }
      },
      "cell_type": "code",
      "source": [
        "from base64 import b64decode\n",
        "\n",
        "consumer_key = str(b64decode(consumer_key_b64), 'utf8')\n",
        "consumer_secret = str(b64decode(consumer_secret_b64), 'utf8')\n",
        "access_token_key = str(b64decode(access_token_key_b64), 'utf8')\n",
        "access_token_secret = str(b64decode(access_token_secret_b64), 'utf8')\n",
        "\n",
        "# Credentials file format:\n",
        "# consumer_key=YOUR_CONSUMER_KEY\n",
        "# consumer_secret=YOUR_CONSUMER_SECRET\n",
        "# access_token_key=YOUR_ACCESS_TOKEN\n",
        "# access_token_secret=YOUR_ACCESS_TOKEN_SECRET\n",
        "\n",
        "fpath = os.environ['HOME']+'/.twitterapi_credentials'\n",
        "fout = open(fpath, \"w\")\n",
        "fout.write(\"consumer_key=%s\\n\"%consumer_key)\n",
        "fout.write(\"consumer_secret=%s\\n\"%consumer_secret)\n",
        "fout.write(\"access_token_key=%s\\n\"%access_token_key)\n",
        "fout.write(\"access_token_secret=%s\\n\"%access_token_secret)\n",
        "fout.close()"
      ],
      "execution_count": 0,
      "outputs": []
    },
    {
      "metadata": {
        "id": "kgipsCAp8XPd",
        "colab_type": "text"
      },
      "cell_type": "markdown",
      "source": [
        "### Connect and authenticate with Twitter REST API."
      ]
    },
    {
      "metadata": {
        "id": "mL67_07hhgjN",
        "colab_type": "code",
        "colab": {
          "autoexec": {
            "startup": false,
            "wait_interval": 0
          }
        }
      },
      "cell_type": "code",
      "source": [
        "o = TwitterOAuth.read_file(os.environ['HOME']+'/.twitterapi_credentials')\n",
        "twapi = TwitterAPI(o.consumer_key, o.consumer_secret, o.access_token_key, o.access_token_secret)"
      ],
      "execution_count": 0,
      "outputs": []
    },
    {
      "metadata": {
        "id": "8Pre07_hhu0i",
        "colab_type": "text"
      },
      "cell_type": "markdown",
      "source": [
        "### Convenience function"
      ]
    },
    {
      "metadata": {
        "id": "qgSLutbrhy3G",
        "colab_type": "code",
        "colab": {
          "autoexec": {
            "startup": false,
            "wait_interval": 0
          }
        }
      },
      "cell_type": "code",
      "source": [
        "def searchTwitter(q, api, feed=\"search/tweets\", n=100):\n",
        "  return [t for t in api.request(feed, {'q':q,'count':n})]"
      ],
      "execution_count": 0,
      "outputs": []
    },
    {
      "metadata": {
        "id": "tySFMqpDh5oB",
        "colab_type": "text"
      },
      "cell_type": "markdown",
      "source": [
        "### Get JSON from Twitter"
      ]
    },
    {
      "metadata": {
        "id": "rXeIIMz3iCpZ",
        "colab_type": "code",
        "colab": {
          "autoexec": {
            "startup": false,
            "wait_interval": 0
          }
        }
      },
      "cell_type": "code",
      "source": [
        "cat_tweets = searchTwitter('#cats', twapi, n=100)\n",
        "dog_tweets = searchTwitter('#dogs', twapi, n=100)"
      ],
      "execution_count": 0,
      "outputs": []
    },
    {
      "metadata": {
        "id": "nM6Q7ZS5iEft",
        "colab_type": "text"
      },
      "cell_type": "markdown",
      "source": [
        "### Convert the json returned by Twitter into a dataframe"
      ]
    },
    {
      "metadata": {
        "id": "Yk9_CK5WiJyG",
        "colab_type": "code",
        "colab": {
          "autoexec": {
            "startup": false,
            "wait_interval": 0
          }
        }
      },
      "cell_type": "code",
      "source": [
        "cat_df = pandas.read_json(json.dumps(cat_tweets))\n",
        "dog_df = pandas.read_json(json.dumps(dog_tweets))"
      ],
      "execution_count": 0,
      "outputs": []
    },
    {
      "metadata": {
        "id": "Mmz_Lwc0iduH",
        "colab_type": "text"
      },
      "cell_type": "markdown",
      "source": [
        "### Inspect data frames.\n"
      ]
    },
    {
      "metadata": {
        "id": "Fby0bwtAkFdx",
        "colab_type": "code",
        "colab": {
          "autoexec": {
            "startup": false,
            "wait_interval": 0
          },
          "output_extras": [
            {
              "item_id": 1
            }
          ],
          "base_uri": "https://localhost:8080/",
          "height": 632
        },
        "outputId": "14712fe0-bc19-474f-a491-78a1be0ff626",
        "executionInfo": {
          "status": "ok",
          "timestamp": 1519919784880,
          "user_tz": 420,
          "elapsed": 353,
          "user": {
            "displayName": "Jeremy Yang",
            "photoUrl": "//lh4.googleusercontent.com/-oulNnl1aBlA/AAAAAAAAAAI/AAAAAAAAAm4/uOczRUUkS4g/s50-c-k-no/photo.jpg",
            "userId": "102807397641040966212"
          }
        }
      },
      "cell_type": "code",
      "source": [
        "pandas.set_option('display.max_columns', None) \n",
        "cat_df.head()\n",
        "dog_df.head()"
      ],
      "execution_count": 37,
      "outputs": [
        {
          "output_type": "execute_result",
          "data": {
            "text/html": [
              "<div>\n",
              "<style scoped>\n",
              "    .dataframe tbody tr th:only-of-type {\n",
              "        vertical-align: middle;\n",
              "    }\n",
              "\n",
              "    .dataframe tbody tr th {\n",
              "        vertical-align: top;\n",
              "    }\n",
              "\n",
              "    .dataframe thead th {\n",
              "        text-align: right;\n",
              "    }\n",
              "</style>\n",
              "<table border=\"1\" class=\"dataframe\">\n",
              "  <thead>\n",
              "    <tr style=\"text-align: right;\">\n",
              "      <th></th>\n",
              "      <th>contributors</th>\n",
              "      <th>coordinates</th>\n",
              "      <th>created_at</th>\n",
              "      <th>entities</th>\n",
              "      <th>extended_entities</th>\n",
              "      <th>favorite_count</th>\n",
              "      <th>favorited</th>\n",
              "      <th>geo</th>\n",
              "      <th>id</th>\n",
              "      <th>id_str</th>\n",
              "      <th>in_reply_to_screen_name</th>\n",
              "      <th>in_reply_to_status_id</th>\n",
              "      <th>in_reply_to_status_id_str</th>\n",
              "      <th>in_reply_to_user_id</th>\n",
              "      <th>in_reply_to_user_id_str</th>\n",
              "      <th>is_quote_status</th>\n",
              "      <th>lang</th>\n",
              "      <th>metadata</th>\n",
              "      <th>place</th>\n",
              "      <th>possibly_sensitive</th>\n",
              "      <th>quoted_status</th>\n",
              "      <th>quoted_status_id</th>\n",
              "      <th>quoted_status_id_str</th>\n",
              "      <th>retweet_count</th>\n",
              "      <th>retweeted</th>\n",
              "      <th>retweeted_status</th>\n",
              "      <th>source</th>\n",
              "      <th>text</th>\n",
              "      <th>truncated</th>\n",
              "      <th>user</th>\n",
              "    </tr>\n",
              "  </thead>\n",
              "  <tbody>\n",
              "    <tr>\n",
              "      <th>0</th>\n",
              "      <td>NaN</td>\n",
              "      <td>None</td>\n",
              "      <td>2018-03-01 15:45:41</td>\n",
              "      <td>{'hashtags': [{'text': 'throwbackthursday', 'indices': [18, 36]}, {'text': 'dartmouth', 'indices...</td>\n",
              "      <td>NaN</td>\n",
              "      <td>0</td>\n",
              "      <td>False</td>\n",
              "      <td>None</td>\n",
              "      <td>969237246439231488</td>\n",
              "      <td>969237246439231488</td>\n",
              "      <td>NaN</td>\n",
              "      <td>NaN</td>\n",
              "      <td>NaN</td>\n",
              "      <td>NaN</td>\n",
              "      <td>NaN</td>\n",
              "      <td>False</td>\n",
              "      <td>en</td>\n",
              "      <td>{'iso_language_code': 'en', 'result_type': 'recent'}</td>\n",
              "      <td>None</td>\n",
              "      <td>NaN</td>\n",
              "      <td>NaN</td>\n",
              "      <td>NaN</td>\n",
              "      <td>NaN</td>\n",
              "      <td>1</td>\n",
              "      <td>False</td>\n",
              "      <td>{'created_at': 'Thu Mar 01 15:39:58 +0000 2018', 'id': 969235806761246722, 'id_str': '9692358067...</td>\n",
              "      <td>&lt;a href=\"http://twitter.com\" rel=\"nofollow\"&gt;Twitter Web Client&lt;/a&gt;</td>\n",
              "      <td>RT @bideawhile: . #throwbackthursday - This is where Bide Awhile began, almost 50 years ago on E...</td>\n",
              "      <td>False</td>\n",
              "      <td>{'id': 26558733, 'id_str': '26558733', 'name': 'Halifax Chamber', 'screen_name': 'halifaxchamber...</td>\n",
              "    </tr>\n",
              "    <tr>\n",
              "      <th>1</th>\n",
              "      <td>NaN</td>\n",
              "      <td>None</td>\n",
              "      <td>2018-03-01 15:45:40</td>\n",
              "      <td>{'hashtags': [{'text': 'Dogs', 'indices': [99, 104]}, {'text': 'Maidstone', 'indices': [105, 115...</td>\n",
              "      <td>NaN</td>\n",
              "      <td>0</td>\n",
              "      <td>False</td>\n",
              "      <td>None</td>\n",
              "      <td>969237239937953792</td>\n",
              "      <td>969237239937953792</td>\n",
              "      <td>NaN</td>\n",
              "      <td>NaN</td>\n",
              "      <td>NaN</td>\n",
              "      <td>NaN</td>\n",
              "      <td>NaN</td>\n",
              "      <td>False</td>\n",
              "      <td>en</td>\n",
              "      <td>{'iso_language_code': 'en', 'result_type': 'recent'}</td>\n",
              "      <td>None</td>\n",
              "      <td>0.0</td>\n",
              "      <td>NaN</td>\n",
              "      <td>NaN</td>\n",
              "      <td>NaN</td>\n",
              "      <td>2</td>\n",
              "      <td>False</td>\n",
              "      <td>{'created_at': 'Thu Mar 01 15:17:46 +0000 2018', 'id': 969230221646946305, 'id_str': '9692302216...</td>\n",
              "      <td>&lt;a href=\"http://twitter.com/download/android\" rel=\"nofollow\"&gt;Twitter for Android&lt;/a&gt;</td>\n",
              "      <td>RT @dogwalkingmaids: Dog Walking in Maidstone from Dog Walking Maidstone - https://t.co/ZuWCiY9k...</td>\n",
              "      <td>False</td>\n",
              "      <td>{'id': 3057634784, 'id_str': '3057634784', 'name': 'hirotoki 1639w1095', 'screen_name': 'hirotok...</td>\n",
              "    </tr>\n",
              "    <tr>\n",
              "      <th>2</th>\n",
              "      <td>NaN</td>\n",
              "      <td>None</td>\n",
              "      <td>2018-03-01 15:45:32</td>\n",
              "      <td>{'hashtags': [{'text': 'lévriers', 'indices': [0, 9]}, {'text': 'dogs', 'indices': [10, 15]}, {'...</td>\n",
              "      <td>{'media': [{'id': 969236720679030785, 'id_str': '969236720679030785', 'indices': [106, 129], 'me...</td>\n",
              "      <td>0</td>\n",
              "      <td>False</td>\n",
              "      <td>None</td>\n",
              "      <td>969237206169767937</td>\n",
              "      <td>969237206169767936</td>\n",
              "      <td>NaN</td>\n",
              "      <td>NaN</td>\n",
              "      <td>NaN</td>\n",
              "      <td>NaN</td>\n",
              "      <td>NaN</td>\n",
              "      <td>False</td>\n",
              "      <td>fr</td>\n",
              "      <td>{'iso_language_code': 'fr', 'result_type': 'recent'}</td>\n",
              "      <td>None</td>\n",
              "      <td>0.0</td>\n",
              "      <td>NaN</td>\n",
              "      <td>NaN</td>\n",
              "      <td>NaN</td>\n",
              "      <td>0</td>\n",
              "      <td>False</td>\n",
              "      <td>NaN</td>\n",
              "      <td>&lt;a href=\"http://twitter.com\" rel=\"nofollow\"&gt;Twitter Web Client&lt;/a&gt;</td>\n",
              "      <td>#lévriers #dogs #Nikon #D3200 \\nMon trépied  :https://t.co/huT2XW5Us5\\nMon REFLEX  :https://t.co...</td>\n",
              "      <td>False</td>\n",
              "      <td>{'id': 740617701756960768, 'id_str': '740617701756960768', 'name': 'Sodropsss', 'screen_name': '...</td>\n",
              "    </tr>\n",
              "    <tr>\n",
              "      <th>3</th>\n",
              "      <td>NaN</td>\n",
              "      <td>None</td>\n",
              "      <td>2018-03-01 15:45:26</td>\n",
              "      <td>{'hashtags': [{'text': 'AmorAnimal', 'indices': [17, 28]}, {'text': 'alma', 'indices': [29, 34]}...</td>\n",
              "      <td>{'media': [{'id': 969186457607921664, 'id_str': '969186457607921664', 'indices': [64, 87], 'medi...</td>\n",
              "      <td>0</td>\n",
              "      <td>False</td>\n",
              "      <td>None</td>\n",
              "      <td>969237181675069441</td>\n",
              "      <td>969237181675069440</td>\n",
              "      <td>NaN</td>\n",
              "      <td>NaN</td>\n",
              "      <td>NaN</td>\n",
              "      <td>NaN</td>\n",
              "      <td>NaN</td>\n",
              "      <td>False</td>\n",
              "      <td>und</td>\n",
              "      <td>{'iso_language_code': 'und', 'result_type': 'recent'}</td>\n",
              "      <td>None</td>\n",
              "      <td>0.0</td>\n",
              "      <td>NaN</td>\n",
              "      <td>NaN</td>\n",
              "      <td>NaN</td>\n",
              "      <td>49</td>\n",
              "      <td>False</td>\n",
              "      <td>{'created_at': 'Thu Mar 01 12:23:53 +0000 2018', 'id': 969186460921483264, 'id_str': '9691864609...</td>\n",
              "      <td>&lt;a href=\"http://twitter.com\" rel=\"nofollow\"&gt;Twitter Web Client&lt;/a&gt;</td>\n",
              "      <td>RT @elcampito: ❤ #AmorAnimal #alma #perros #rescate #dogs #love https://t.co/etDqQIADv5</td>\n",
              "      <td>False</td>\n",
              "      <td>{'id': 228494025, 'id_str': '228494025', 'name': 'Nahuel González', 'screen_name': 'zzahuel', 'l...</td>\n",
              "    </tr>\n",
              "    <tr>\n",
              "      <th>4</th>\n",
              "      <td>NaN</td>\n",
              "      <td>None</td>\n",
              "      <td>2018-03-01 15:45:18</td>\n",
              "      <td>{'hashtags': [{'text': 'goodboy', 'indices': [34, 42]}, {'text': 'dogs', 'indices': [43, 48]}], ...</td>\n",
              "      <td>{'media': [{'id': 969065547575975936, 'id_str': '969065547575975936', 'indices': [53, 76], 'medi...</td>\n",
              "      <td>0</td>\n",
              "      <td>False</td>\n",
              "      <td>None</td>\n",
              "      <td>969237150653919232</td>\n",
              "      <td>969237150653919232</td>\n",
              "      <td>NaN</td>\n",
              "      <td>NaN</td>\n",
              "      <td>NaN</td>\n",
              "      <td>NaN</td>\n",
              "      <td>NaN</td>\n",
              "      <td>False</td>\n",
              "      <td>en</td>\n",
              "      <td>{'iso_language_code': 'en', 'result_type': 'recent'}</td>\n",
              "      <td>None</td>\n",
              "      <td>0.0</td>\n",
              "      <td>NaN</td>\n",
              "      <td>NaN</td>\n",
              "      <td>NaN</td>\n",
              "      <td>201</td>\n",
              "      <td>False</td>\n",
              "      <td>{'created_at': 'Thu Mar 01 04:23:53 +0000 2018', 'id': 969065665142210560, 'id_str': '9690656651...</td>\n",
              "      <td>&lt;a href=\"https://mobile.twitter.com\" rel=\"nofollow\"&gt;Twitter Lite&lt;/a&gt;</td>\n",
              "      <td>RT @Cory_1077: Wait for it..... \\n\\n#goodboy #dogs 😂🐾💞 https://t.co/bSfhfCiuxW</td>\n",
              "      <td>False</td>\n",
              "      <td>{'id': 761929682048602112, 'id_str': '761929682048602112', 'name': 'Pamela Crawford', 'screen_na...</td>\n",
              "    </tr>\n",
              "  </tbody>\n",
              "</table>\n",
              "</div>"
            ],
            "text/plain": [
              "   contributors coordinates          created_at  \\\n",
              "0           NaN        None 2018-03-01 15:45:41   \n",
              "1           NaN        None 2018-03-01 15:45:40   \n",
              "2           NaN        None 2018-03-01 15:45:32   \n",
              "3           NaN        None 2018-03-01 15:45:26   \n",
              "4           NaN        None 2018-03-01 15:45:18   \n",
              "\n",
              "                                                                                              entities  \\\n",
              "0  {'hashtags': [{'text': 'throwbackthursday', 'indices': [18, 36]}, {'text': 'dartmouth', 'indices...   \n",
              "1  {'hashtags': [{'text': 'Dogs', 'indices': [99, 104]}, {'text': 'Maidstone', 'indices': [105, 115...   \n",
              "2  {'hashtags': [{'text': 'lévriers', 'indices': [0, 9]}, {'text': 'dogs', 'indices': [10, 15]}, {'...   \n",
              "3  {'hashtags': [{'text': 'AmorAnimal', 'indices': [17, 28]}, {'text': 'alma', 'indices': [29, 34]}...   \n",
              "4  {'hashtags': [{'text': 'goodboy', 'indices': [34, 42]}, {'text': 'dogs', 'indices': [43, 48]}], ...   \n",
              "\n",
              "                                                                                     extended_entities  \\\n",
              "0                                                                                                  NaN   \n",
              "1                                                                                                  NaN   \n",
              "2  {'media': [{'id': 969236720679030785, 'id_str': '969236720679030785', 'indices': [106, 129], 'me...   \n",
              "3  {'media': [{'id': 969186457607921664, 'id_str': '969186457607921664', 'indices': [64, 87], 'medi...   \n",
              "4  {'media': [{'id': 969065547575975936, 'id_str': '969065547575975936', 'indices': [53, 76], 'medi...   \n",
              "\n",
              "   favorite_count  favorited   geo                  id              id_str  \\\n",
              "0               0      False  None  969237246439231488  969237246439231488   \n",
              "1               0      False  None  969237239937953792  969237239937953792   \n",
              "2               0      False  None  969237206169767937  969237206169767936   \n",
              "3               0      False  None  969237181675069441  969237181675069440   \n",
              "4               0      False  None  969237150653919232  969237150653919232   \n",
              "\n",
              "   in_reply_to_screen_name  in_reply_to_status_id  in_reply_to_status_id_str  \\\n",
              "0                      NaN                    NaN                        NaN   \n",
              "1                      NaN                    NaN                        NaN   \n",
              "2                      NaN                    NaN                        NaN   \n",
              "3                      NaN                    NaN                        NaN   \n",
              "4                      NaN                    NaN                        NaN   \n",
              "\n",
              "   in_reply_to_user_id  in_reply_to_user_id_str  is_quote_status lang  \\\n",
              "0                  NaN                      NaN            False   en   \n",
              "1                  NaN                      NaN            False   en   \n",
              "2                  NaN                      NaN            False   fr   \n",
              "3                  NaN                      NaN            False  und   \n",
              "4                  NaN                      NaN            False   en   \n",
              "\n",
              "                                                metadata place  \\\n",
              "0   {'iso_language_code': 'en', 'result_type': 'recent'}  None   \n",
              "1   {'iso_language_code': 'en', 'result_type': 'recent'}  None   \n",
              "2   {'iso_language_code': 'fr', 'result_type': 'recent'}  None   \n",
              "3  {'iso_language_code': 'und', 'result_type': 'recent'}  None   \n",
              "4   {'iso_language_code': 'en', 'result_type': 'recent'}  None   \n",
              "\n",
              "   possibly_sensitive quoted_status  quoted_status_id  quoted_status_id_str  \\\n",
              "0                 NaN           NaN               NaN                   NaN   \n",
              "1                 0.0           NaN               NaN                   NaN   \n",
              "2                 0.0           NaN               NaN                   NaN   \n",
              "3                 0.0           NaN               NaN                   NaN   \n",
              "4                 0.0           NaN               NaN                   NaN   \n",
              "\n",
              "   retweet_count  retweeted  \\\n",
              "0              1      False   \n",
              "1              2      False   \n",
              "2              0      False   \n",
              "3             49      False   \n",
              "4            201      False   \n",
              "\n",
              "                                                                                      retweeted_status  \\\n",
              "0  {'created_at': 'Thu Mar 01 15:39:58 +0000 2018', 'id': 969235806761246722, 'id_str': '9692358067...   \n",
              "1  {'created_at': 'Thu Mar 01 15:17:46 +0000 2018', 'id': 969230221646946305, 'id_str': '9692302216...   \n",
              "2                                                                                                  NaN   \n",
              "3  {'created_at': 'Thu Mar 01 12:23:53 +0000 2018', 'id': 969186460921483264, 'id_str': '9691864609...   \n",
              "4  {'created_at': 'Thu Mar 01 04:23:53 +0000 2018', 'id': 969065665142210560, 'id_str': '9690656651...   \n",
              "\n",
              "                                                                                 source  \\\n",
              "0                    <a href=\"http://twitter.com\" rel=\"nofollow\">Twitter Web Client</a>   \n",
              "1  <a href=\"http://twitter.com/download/android\" rel=\"nofollow\">Twitter for Android</a>   \n",
              "2                    <a href=\"http://twitter.com\" rel=\"nofollow\">Twitter Web Client</a>   \n",
              "3                    <a href=\"http://twitter.com\" rel=\"nofollow\">Twitter Web Client</a>   \n",
              "4                  <a href=\"https://mobile.twitter.com\" rel=\"nofollow\">Twitter Lite</a>   \n",
              "\n",
              "                                                                                                  text  \\\n",
              "0  RT @bideawhile: . #throwbackthursday - This is where Bide Awhile began, almost 50 years ago on E...   \n",
              "1  RT @dogwalkingmaids: Dog Walking in Maidstone from Dog Walking Maidstone - https://t.co/ZuWCiY9k...   \n",
              "2  #lévriers #dogs #Nikon #D3200 \\nMon trépied  :https://t.co/huT2XW5Us5\\nMon REFLEX  :https://t.co...   \n",
              "3              RT @elcampito: ❤ #AmorAnimal #alma #perros #rescate #dogs #love https://t.co/etDqQIADv5   \n",
              "4                       RT @Cory_1077: Wait for it..... \\n\\n#goodboy #dogs 😂🐾💞 https://t.co/bSfhfCiuxW   \n",
              "\n",
              "   truncated  \\\n",
              "0      False   \n",
              "1      False   \n",
              "2      False   \n",
              "3      False   \n",
              "4      False   \n",
              "\n",
              "                                                                                                  user  \n",
              "0  {'id': 26558733, 'id_str': '26558733', 'name': 'Halifax Chamber', 'screen_name': 'halifaxchamber...  \n",
              "1  {'id': 3057634784, 'id_str': '3057634784', 'name': 'hirotoki 1639w1095', 'screen_name': 'hirotok...  \n",
              "2  {'id': 740617701756960768, 'id_str': '740617701756960768', 'name': 'Sodropsss', 'screen_name': '...  \n",
              "3  {'id': 228494025, 'id_str': '228494025', 'name': 'Nahuel González', 'screen_name': 'zzahuel', 'l...  \n",
              "4  {'id': 761929682048602112, 'id_str': '761929682048602112', 'name': 'Pamela Crawford', 'screen_na...  "
            ]
          },
          "metadata": {
            "tags": []
          },
          "execution_count": 37
        }
      ]
    },
    {
      "metadata": {
        "id": "JprVFk7gHPTy",
        "colab_type": "code",
        "colab": {
          "autoexec": {
            "startup": false,
            "wait_interval": 0
          },
          "output_extras": [
            {
              "item_id": 1
            }
          ],
          "base_uri": "https://localhost:8080/",
          "height": 595
        },
        "outputId": "34bb0102-e8a5-48ba-8c19-ed3222e1fcab",
        "executionInfo": {
          "status": "ok",
          "timestamp": 1519919794663,
          "user_tz": 420,
          "elapsed": 331,
          "user": {
            "displayName": "Jeremy Yang",
            "photoUrl": "//lh4.googleusercontent.com/-oulNnl1aBlA/AAAAAAAAAAI/AAAAAAAAAm4/uOczRUUkS4g/s50-c-k-no/photo.jpg",
            "userId": "102807397641040966212"
          }
        }
      },
      "cell_type": "code",
      "source": [
        "cat_df.loc[1]"
      ],
      "execution_count": 38,
      "outputs": [
        {
          "output_type": "execute_result",
          "data": {
            "text/plain": [
              "contributors                                                                                                                 NaN\n",
              "coordinates                                                                                                                 None\n",
              "created_at                                                                                                   2018-03-01 15:45:15\n",
              "entities                     {'hashtags': [{'text': 'DidYouKnjow', 'indices': [0, 12]}, {'text': 'pethacks', 'indices': [106,...\n",
              "extended_entities                                                                                                            NaN\n",
              "favorite_count                                                                                                                 0\n",
              "favorited                                                                                                                  False\n",
              "geo                                                                                                                         None\n",
              "id                                                                                                            969237136657481728\n",
              "id_str                                                                                                        969237136657481728\n",
              "in_reply_to_screen_name                                                                                                     None\n",
              "in_reply_to_status_id                                                                                                        NaN\n",
              "in_reply_to_status_id_str                                                                                                    NaN\n",
              "in_reply_to_user_id                                                                                                          NaN\n",
              "in_reply_to_user_id_str                                                                                                      NaN\n",
              "is_quote_status                                                                                                            False\n",
              "lang                                                                                                                          en\n",
              "metadata                                                                    {'iso_language_code': 'en', 'result_type': 'recent'}\n",
              "place                                                                                                                       None\n",
              "possibly_sensitive                                                                                                           NaN\n",
              "quoted_status                                                                                                                NaN\n",
              "quoted_status_id                                                                                                             NaN\n",
              "quoted_status_id_str                                                                                                         NaN\n",
              "retweet_count                                                                                                                  0\n",
              "retweeted                                                                                                                  False\n",
              "retweeted_status                                                                                                             NaN\n",
              "source                                                           <a href=\"http://www.hootsuite.com\" rel=\"nofollow\">Hootsuite</a>\n",
              "text                         #DidYouKnjow The word 'tabby' is said to derive from the name Attabiyah, a neighborhood in Baghd...\n",
              "truncated                                                                                                                  False\n",
              "user                         {'id': 35831297, 'id_str': '35831297', 'name': 'Edna Wong', 'screen_name': 'EdnasPetHacks', 'loc...\n",
              "Name: 1, dtype: object"
            ]
          },
          "metadata": {
            "tags": []
          },
          "execution_count": 38
        }
      ]
    },
    {
      "metadata": {
        "id": "vFD0WwaDHhkI",
        "colab_type": "code",
        "colab": {
          "autoexec": {
            "startup": false,
            "wait_interval": 0
          },
          "output_extras": [
            {
              "item_id": 1
            }
          ],
          "base_uri": "https://localhost:8080/",
          "height": 215
        },
        "outputId": "4a115105-1090-42d5-9802-47ac4d25060e",
        "executionInfo": {
          "status": "ok",
          "timestamp": 1519919863230,
          "user_tz": 420,
          "elapsed": 314,
          "user": {
            "displayName": "Jeremy Yang",
            "photoUrl": "//lh4.googleusercontent.com/-oulNnl1aBlA/AAAAAAAAAAI/AAAAAAAAAm4/uOczRUUkS4g/s50-c-k-no/photo.jpg",
            "userId": "102807397641040966212"
          }
        }
      },
      "cell_type": "code",
      "source": [
        "pandas.set_option('display.max_colwidth', 100)\n",
        "cat_df.loc[1:10]['text']"
      ],
      "execution_count": 39,
      "outputs": [
        {
          "output_type": "execute_result",
          "data": {
            "text/plain": [
              "1     #DidYouKnjow The word 'tabby' is said to derive from the name Attabiyah, a neighborhood in Baghd...\n",
              "2     RT @Loki_the_lilac: The face you make when you're hooman asks if you want to go outside In the S...\n",
              "3     Můj malý, modrý kamarád...\\n\\n#kocky #ruskamodra #russianblue #cats #kitten https://t.co/7WNGoiynI9\n",
              "4     Pope Benedict loves cats...and they seem quite fond of him too.\\n#PopeBenedictXVI #cats #CatsOfT...\n",
              "5                                                      Kay's visiting :3\\n\\n#cats https://t.co/dJ74PAh4yM\n",
              "6     Oh, no! Marsik needs our help. Must find safe refuge today.  Please join efforts to save Marsik....\n",
              "7                       Mood: \\n#ПисьмоНьютаСосетВИнсту #BlackPanther #cats #mood https://t.co/YORoFO9TLV\n",
              "8     RT @CamrynZeePhoto: https://t.co/VsyGhsmt6M\\n\\nCat in Shadows\\n\\n#cats #cat #artwork #art #artis...\n",
              "9     https://t.co/VsyGhsmt6M\\n\\nCat in Shadows\\n\\n#cats #cat #artwork #art #artist #digitalart #Photo...\n",
              "10    RT @MaryAgnetha: С первым днём весны и с днём котиков!~ #cats #котики #spring #весна https://t.c...\n",
              "Name: text, dtype: object"
            ]
          },
          "metadata": {
            "tags": []
          },
          "execution_count": 39
        }
      ]
    },
    {
      "metadata": {
        "id": "JppvQsvWkOBn",
        "colab_type": "text"
      },
      "cell_type": "markdown",
      "source": [
        "### Get text only and replace hashtags with blanks\n",
        "If you want to use the normalizer, import it above and pass x.replace() to the noramlizer function"
      ]
    },
    {
      "metadata": {
        "id": "aAprJdgsikzN",
        "colab_type": "code",
        "colab": {
          "autoexec": {
            "startup": false,
            "wait_interval": 0
          }
        }
      },
      "cell_type": "code",
      "source": [
        "cat_txt = [x.replace('#cats',\"BLAH\") for x in cat_df['text']]\n",
        "dog_txt = [x.replace('#dogs',\"BLAH\") for x in dog_df['text']]"
      ],
      "execution_count": 0,
      "outputs": []
    },
    {
      "metadata": {
        "id": "b8roZjHEa733",
        "colab_type": "code",
        "colab": {
          "autoexec": {
            "startup": false,
            "wait_interval": 0
          },
          "output_extras": [
            {
              "item_id": 1
            }
          ],
          "base_uri": "https://localhost:8080/",
          "height": 199
        },
        "outputId": "85826206-0ef7-4aa7-88cb-12dec1c02f47",
        "executionInfo": {
          "status": "ok",
          "timestamp": 1519919916075,
          "user_tz": 420,
          "elapsed": 311,
          "user": {
            "displayName": "Jeremy Yang",
            "photoUrl": "//lh4.googleusercontent.com/-oulNnl1aBlA/AAAAAAAAAAI/AAAAAAAAAm4/uOczRUUkS4g/s50-c-k-no/photo.jpg",
            "userId": "102807397641040966212"
          }
        }
      },
      "cell_type": "code",
      "source": [
        "cat_txt[1:10]"
      ],
      "execution_count": 41,
      "outputs": [
        {
          "output_type": "execute_result",
          "data": {
            "text/plain": [
              "[\"#DidYouKnjow The word 'tabby' is said to derive from the name Attabiyah, a neighborhood in Baghdad, Iran. #pethacks BLAH\",\n",
              " \"RT @Loki_the_lilac: The face you make when you're hooman asks if you want to go outside In the Snow 💙🌧😹 #SnowDay BLAH #cat #CatsOfTwitter…\",\n",
              " 'Můj malý, modrý kamarád...\\n\\n#kocky #ruskamodra #russianblue BLAH #kitten https://t.co/7WNGoiynI9',\n",
              " 'Pope Benedict loves cats...and they seem quite fond of him too.\\n#PopeBenedictXVI BLAH #CatsOfTwitter… https://t.co/a12G8XI8zM',\n",
              " \"Kay's visiting :3\\n\\nBLAH https://t.co/dJ74PAh4yM\",\n",
              " 'Oh, no! Marsik needs our help. Must find safe refuge today.  Please join efforts to save Marsik. BLAH #Philly https://t.co/c8GdV6r6X2',\n",
              " 'Mood: \\n#ПисьмоНьютаСосетВИнсту #BlackPanther BLAH #mood https://t.co/YORoFO9TLV',\n",
              " 'RT @CamrynZeePhoto: https://t.co/VsyGhsmt6M\\n\\nCat in Shadows\\n\\nBLAH #cat #artwork #art #artist #digitalart #Photography #500pxrtg #fineart #…',\n",
              " 'https://t.co/VsyGhsmt6M\\n\\nCat in Shadows\\n\\nBLAH #cat #artwork #art #artist #digitalart #Photography #500pxrtg… https://t.co/b2BWRymTM9']"
            ]
          },
          "metadata": {
            "tags": []
          },
          "execution_count": 41
        }
      ]
    },
    {
      "metadata": {
        "id": "eN8RwEBAipK2",
        "colab_type": "text"
      },
      "cell_type": "markdown",
      "source": [
        "### Vectorization, Feature Selection and Extraction\n",
        "* Train Scikit-Learn CountVectorizer on corpus of tweets, to define terms. \n",
        "* Extract term-counts and generate term-document matrices."
      ]
    },
    {
      "metadata": {
        "id": "AuLiEwH5ixTo",
        "colab_type": "code",
        "colab": {
          "autoexec": {
            "startup": false,
            "wait_interval": 0
          }
        }
      },
      "cell_type": "code",
      "source": [
        "vectorizer = sklearn.feature_extraction.text.CountVectorizer(cat_txt+dog_txt, analyzer='word', stop_words=None, min_df=5)\n",
        "vectorizer.fit(cat_txt+dog_txt)\n",
        "cat_tdm = vectorizer.transform(cat_txt).toarray()\n",
        "dog_tdm = vectorizer.transform(dog_txt).toarray()"
      ],
      "execution_count": 0,
      "outputs": []
    },
    {
      "metadata": {
        "id": "8OgoAS64eVCn",
        "colab_type": "code",
        "colab": {
          "autoexec": {
            "startup": false,
            "wait_interval": 0
          },
          "output_extras": [
            {
              "item_id": 1
            }
          ],
          "base_uri": "https://localhost:8080/",
          "height": 1367
        },
        "outputId": "608e0bc7-aaa6-4878-975c-4793695e364b",
        "executionInfo": {
          "status": "ok",
          "timestamp": 1519920021289,
          "user_tz": 420,
          "elapsed": 314,
          "user": {
            "displayName": "Jeremy Yang",
            "photoUrl": "//lh4.googleusercontent.com/-oulNnl1aBlA/AAAAAAAAAAI/AAAAAAAAAm4/uOczRUUkS4g/s50-c-k-no/photo.jpg",
            "userId": "102807397641040966212"
          }
        }
      },
      "cell_type": "code",
      "source": [
        "vectorizer.get_feature_names()"
      ],
      "execution_count": 43,
      "outputs": [
        {
          "output_type": "execute_result",
          "data": {
            "text/plain": [
              "['03',\n",
              " '18',\n",
              " 'all',\n",
              " 'amp',\n",
              " 'an',\n",
              " 'and',\n",
              " 'animallovers',\n",
              " 'animals',\n",
              " 'are',\n",
              " 'art',\n",
              " 'blah',\n",
              " 'can',\n",
              " 'cat',\n",
              " 'catlovers',\n",
              " 'catoftheday',\n",
              " 'cats',\n",
              " 'catsoftwitter',\n",
              " 'choco_sandy1',\n",
              " 'co',\n",
              " 'craic',\n",
              " 'cute',\n",
              " 'day',\n",
              " 'do',\n",
              " 'dog',\n",
              " 'dogs',\n",
              " 'feb',\n",
              " 'for',\n",
              " 'from',\n",
              " 'fryld',\n",
              " 'garrethdunleavy',\n",
              " 'great',\n",
              " 'helpinglostpets',\n",
              " 'home',\n",
              " 'https',\n",
              " 'in',\n",
              " 'is',\n",
              " 'it',\n",
              " 'just',\n",
              " 'kitten',\n",
              " 'kittens',\n",
              " 'kitty',\n",
              " 'ln5vw08gaj',\n",
              " 'lost',\n",
              " 'love',\n",
              " 'markgkirshner',\n",
              " 'my',\n",
              " 'now',\n",
              " 'oadele53',\n",
              " 'of',\n",
              " 'old',\n",
              " 'on',\n",
              " 'or',\n",
              " 'out',\n",
              " 'patdefranchis',\n",
              " 'pets',\n",
              " 'rescue',\n",
              " 'rt',\n",
              " 'saravastiares',\n",
              " 'seen',\n",
              " 'sneachta',\n",
              " 'snow',\n",
              " 'so',\n",
              " 'stormemma',\n",
              " 'that',\n",
              " 'the',\n",
              " 'this',\n",
              " 'to',\n",
              " 'today',\n",
              " 'usa',\n",
              " 've',\n",
              " 'what',\n",
              " 'when',\n",
              " 'where',\n",
              " 'you',\n",
              " 'your']"
            ]
          },
          "metadata": {
            "tags": []
          },
          "execution_count": 43
        }
      ]
    },
    {
      "metadata": {
        "id": "7DiQFAZebdM_",
        "colab_type": "code",
        "colab": {
          "autoexec": {
            "startup": false,
            "wait_interval": 0
          },
          "output_extras": [
            {
              "item_id": 1
            }
          ],
          "base_uri": "https://localhost:8080/",
          "height": 305
        },
        "outputId": "c1858d29-8448-481e-869d-3b171ace1e23",
        "executionInfo": {
          "status": "ok",
          "timestamp": 1519920043461,
          "user_tz": 420,
          "elapsed": 319,
          "user": {
            "displayName": "Jeremy Yang",
            "photoUrl": "//lh4.googleusercontent.com/-oulNnl1aBlA/AAAAAAAAAAI/AAAAAAAAAm4/uOczRUUkS4g/s50-c-k-no/photo.jpg",
            "userId": "102807397641040966212"
          }
        }
      },
      "cell_type": "code",
      "source": [
        "cat_tdm[1:5]"
      ],
      "execution_count": 44,
      "outputs": [
        {
          "output_type": "execute_result",
          "data": {
            "text/plain": [
              "array([[0, 0, 0, 0, 0, 0, 0, 0, 0, 0, 1, 0, 0, 0, 0, 0, 0, 0, 0, 0, 0, 0,\n",
              "        0, 0, 0, 0, 0, 1, 0, 0, 0, 0, 0, 0, 1, 1, 0, 0, 0, 0, 0, 0, 0, 0,\n",
              "        0, 0, 0, 0, 0, 0, 0, 0, 0, 0, 0, 0, 0, 0, 0, 0, 0, 0, 0, 0, 2, 0,\n",
              "        1, 0, 0, 0, 0, 0, 0, 0, 0],\n",
              "       [0, 0, 0, 0, 0, 0, 0, 0, 0, 0, 1, 0, 1, 0, 0, 0, 1, 0, 0, 0, 0, 0,\n",
              "        0, 0, 0, 0, 0, 0, 0, 0, 0, 0, 0, 0, 1, 0, 0, 0, 0, 0, 0, 0, 0, 0,\n",
              "        0, 0, 0, 0, 0, 0, 0, 0, 0, 0, 0, 0, 1, 0, 0, 0, 1, 0, 0, 0, 2, 0,\n",
              "        1, 0, 0, 0, 0, 1, 0, 3, 0],\n",
              "       [0, 0, 0, 0, 0, 0, 0, 0, 0, 0, 1, 0, 0, 0, 0, 0, 0, 0, 1, 0, 0, 0,\n",
              "        0, 0, 0, 0, 0, 0, 0, 0, 0, 0, 0, 1, 0, 0, 0, 0, 1, 0, 0, 0, 0, 0,\n",
              "        0, 0, 0, 0, 0, 0, 0, 0, 0, 0, 0, 0, 0, 0, 0, 0, 0, 0, 0, 0, 0, 0,\n",
              "        0, 0, 0, 0, 0, 0, 0, 0, 0],\n",
              "       [0, 0, 0, 0, 0, 1, 0, 0, 0, 0, 1, 0, 0, 0, 0, 1, 1, 0, 1, 0, 0, 0,\n",
              "        0, 0, 0, 0, 0, 0, 0, 0, 0, 0, 0, 1, 0, 0, 0, 0, 0, 0, 0, 0, 0, 0,\n",
              "        0, 0, 0, 0, 1, 0, 0, 0, 0, 0, 0, 0, 0, 0, 0, 0, 0, 0, 0, 0, 0, 0,\n",
              "        0, 0, 0, 0, 0, 0, 0, 0, 0]])"
            ]
          },
          "metadata": {
            "tags": []
          },
          "execution_count": 44
        }
      ]
    },
    {
      "metadata": {
        "id": "mlM3jH-ei1L_",
        "colab_type": "text"
      },
      "cell_type": "markdown",
      "source": [
        "### Combine matricies, adding class labels for training and testing."
      ]
    },
    {
      "metadata": {
        "id": "oAns1st8i5Ia",
        "colab_type": "code",
        "colab": {
          "autoexec": {
            "startup": false,
            "wait_interval": 0
          }
        }
      },
      "cell_type": "code",
      "source": [
        "catdog_tdm = numpy.concatenate((cat_tdm,dog_tdm),axis=0)\n",
        "Ycat = numpy.array([0 for i in range(len(cat_txt))])\n",
        "Ydog = numpy.array([1 for i in range(len(dog_txt))])\n",
        "Y = numpy.concatenate((Ycat,Ydog),axis=0)"
      ],
      "execution_count": 0,
      "outputs": []
    },
    {
      "metadata": {
        "id": "fRYb4hzK5IdT",
        "colab_type": "text"
      },
      "cell_type": "markdown",
      "source": [
        "### Redo with stopwords list from NLTK\n",
        "NLTK = Natural Language Toolkit (https://www.nltk.org/)"
      ]
    },
    {
      "metadata": {
        "id": "Ew0qNQ3Y5OM2",
        "colab_type": "code",
        "colab": {
          "autoexec": {
            "startup": false,
            "wait_interval": 0
          },
          "output_extras": [
            {
              "item_id": 1
            },
            {
              "item_id": 2
            }
          ],
          "base_uri": "https://localhost:8080/",
          "height": 3275
        },
        "outputId": "3c3648a1-8af9-4988-c88e-0289c3c6a5fc",
        "executionInfo": {
          "status": "ok",
          "timestamp": 1519920194813,
          "user_tz": 420,
          "elapsed": 292,
          "user": {
            "displayName": "Jeremy Yang",
            "photoUrl": "//lh4.googleusercontent.com/-oulNnl1aBlA/AAAAAAAAAAI/AAAAAAAAAm4/uOczRUUkS4g/s50-c-k-no/photo.jpg",
            "userId": "102807397641040966212"
          }
        }
      },
      "cell_type": "code",
      "source": [
        "import nltk\n",
        "import nltk.corpus\n",
        "nltk.download('stopwords')\n",
        "stopwds = list(nltk.corpus.stopwords.words('english'))\n",
        "stopwds"
      ],
      "execution_count": 46,
      "outputs": [
        {
          "output_type": "stream",
          "text": [
            "[nltk_data] Downloading package stopwords to /content/nltk_data...\n",
            "[nltk_data]   Package stopwords is already up-to-date!\n"
          ],
          "name": "stdout"
        },
        {
          "output_type": "execute_result",
          "data": {
            "text/plain": [
              "['i',\n",
              " 'me',\n",
              " 'my',\n",
              " 'myself',\n",
              " 'we',\n",
              " 'our',\n",
              " 'ours',\n",
              " 'ourselves',\n",
              " 'you',\n",
              " \"you're\",\n",
              " \"you've\",\n",
              " \"you'll\",\n",
              " \"you'd\",\n",
              " 'your',\n",
              " 'yours',\n",
              " 'yourself',\n",
              " 'yourselves',\n",
              " 'he',\n",
              " 'him',\n",
              " 'his',\n",
              " 'himself',\n",
              " 'she',\n",
              " \"she's\",\n",
              " 'her',\n",
              " 'hers',\n",
              " 'herself',\n",
              " 'it',\n",
              " \"it's\",\n",
              " 'its',\n",
              " 'itself',\n",
              " 'they',\n",
              " 'them',\n",
              " 'their',\n",
              " 'theirs',\n",
              " 'themselves',\n",
              " 'what',\n",
              " 'which',\n",
              " 'who',\n",
              " 'whom',\n",
              " 'this',\n",
              " 'that',\n",
              " \"that'll\",\n",
              " 'these',\n",
              " 'those',\n",
              " 'am',\n",
              " 'is',\n",
              " 'are',\n",
              " 'was',\n",
              " 'were',\n",
              " 'be',\n",
              " 'been',\n",
              " 'being',\n",
              " 'have',\n",
              " 'has',\n",
              " 'had',\n",
              " 'having',\n",
              " 'do',\n",
              " 'does',\n",
              " 'did',\n",
              " 'doing',\n",
              " 'a',\n",
              " 'an',\n",
              " 'the',\n",
              " 'and',\n",
              " 'but',\n",
              " 'if',\n",
              " 'or',\n",
              " 'because',\n",
              " 'as',\n",
              " 'until',\n",
              " 'while',\n",
              " 'of',\n",
              " 'at',\n",
              " 'by',\n",
              " 'for',\n",
              " 'with',\n",
              " 'about',\n",
              " 'against',\n",
              " 'between',\n",
              " 'into',\n",
              " 'through',\n",
              " 'during',\n",
              " 'before',\n",
              " 'after',\n",
              " 'above',\n",
              " 'below',\n",
              " 'to',\n",
              " 'from',\n",
              " 'up',\n",
              " 'down',\n",
              " 'in',\n",
              " 'out',\n",
              " 'on',\n",
              " 'off',\n",
              " 'over',\n",
              " 'under',\n",
              " 'again',\n",
              " 'further',\n",
              " 'then',\n",
              " 'once',\n",
              " 'here',\n",
              " 'there',\n",
              " 'when',\n",
              " 'where',\n",
              " 'why',\n",
              " 'how',\n",
              " 'all',\n",
              " 'any',\n",
              " 'both',\n",
              " 'each',\n",
              " 'few',\n",
              " 'more',\n",
              " 'most',\n",
              " 'other',\n",
              " 'some',\n",
              " 'such',\n",
              " 'no',\n",
              " 'nor',\n",
              " 'not',\n",
              " 'only',\n",
              " 'own',\n",
              " 'same',\n",
              " 'so',\n",
              " 'than',\n",
              " 'too',\n",
              " 'very',\n",
              " 's',\n",
              " 't',\n",
              " 'can',\n",
              " 'will',\n",
              " 'just',\n",
              " 'don',\n",
              " \"don't\",\n",
              " 'should',\n",
              " \"should've\",\n",
              " 'now',\n",
              " 'd',\n",
              " 'll',\n",
              " 'm',\n",
              " 'o',\n",
              " 're',\n",
              " 've',\n",
              " 'y',\n",
              " 'ain',\n",
              " 'aren',\n",
              " \"aren't\",\n",
              " 'couldn',\n",
              " \"couldn't\",\n",
              " 'didn',\n",
              " \"didn't\",\n",
              " 'doesn',\n",
              " \"doesn't\",\n",
              " 'hadn',\n",
              " \"hadn't\",\n",
              " 'hasn',\n",
              " \"hasn't\",\n",
              " 'haven',\n",
              " \"haven't\",\n",
              " 'isn',\n",
              " \"isn't\",\n",
              " 'ma',\n",
              " 'mightn',\n",
              " \"mightn't\",\n",
              " 'mustn',\n",
              " \"mustn't\",\n",
              " 'needn',\n",
              " \"needn't\",\n",
              " 'shan',\n",
              " \"shan't\",\n",
              " 'shouldn',\n",
              " \"shouldn't\",\n",
              " 'wasn',\n",
              " \"wasn't\",\n",
              " 'weren',\n",
              " \"weren't\",\n",
              " 'won',\n",
              " \"won't\",\n",
              " 'wouldn',\n",
              " \"wouldn't\"]"
            ]
          },
          "metadata": {
            "tags": []
          },
          "execution_count": 46
        }
      ]
    },
    {
      "metadata": {
        "id": "lTFFeQST740l",
        "colab_type": "code",
        "colab": {
          "autoexec": {
            "startup": false,
            "wait_interval": 0
          },
          "output_extras": [
            {
              "item_id": 1
            }
          ],
          "base_uri": "https://localhost:8080/",
          "height": 845
        },
        "outputId": "14f023f4-4bb1-40c5-8d0b-8d49778c819d",
        "executionInfo": {
          "status": "ok",
          "timestamp": 1519920222706,
          "user_tz": 420,
          "elapsed": 308,
          "user": {
            "displayName": "Jeremy Yang",
            "photoUrl": "//lh4.googleusercontent.com/-oulNnl1aBlA/AAAAAAAAAAI/AAAAAAAAAm4/uOczRUUkS4g/s50-c-k-no/photo.jpg",
            "userId": "102807397641040966212"
          }
        }
      },
      "cell_type": "code",
      "source": [
        "vectorizer = sklearn.feature_extraction.text.CountVectorizer(cat_txt+dog_txt, analyzer='word', stop_words=stopwds, min_df=5)\n",
        "vectorizer.fit(cat_txt+dog_txt)\n",
        "cat_tdm = vectorizer.transform(cat_txt).toarray()\n",
        "dog_tdm = vectorizer.transform(dog_txt).toarray()\n",
        "vectorizer.get_feature_names()"
      ],
      "execution_count": 47,
      "outputs": [
        {
          "output_type": "execute_result",
          "data": {
            "text/plain": [
              "['03',\n",
              " '18',\n",
              " 'amp',\n",
              " 'animallovers',\n",
              " 'animals',\n",
              " 'art',\n",
              " 'blah',\n",
              " 'cat',\n",
              " 'catlovers',\n",
              " 'catoftheday',\n",
              " 'cats',\n",
              " 'catsoftwitter',\n",
              " 'choco_sandy1',\n",
              " 'co',\n",
              " 'craic',\n",
              " 'cute',\n",
              " 'day',\n",
              " 'dog',\n",
              " 'dogs',\n",
              " 'feb',\n",
              " 'fryld',\n",
              " 'garrethdunleavy',\n",
              " 'great',\n",
              " 'helpinglostpets',\n",
              " 'home',\n",
              " 'https',\n",
              " 'kitten',\n",
              " 'kittens',\n",
              " 'kitty',\n",
              " 'ln5vw08gaj',\n",
              " 'lost',\n",
              " 'love',\n",
              " 'markgkirshner',\n",
              " 'oadele53',\n",
              " 'old',\n",
              " 'patdefranchis',\n",
              " 'pets',\n",
              " 'rescue',\n",
              " 'rt',\n",
              " 'saravastiares',\n",
              " 'seen',\n",
              " 'sneachta',\n",
              " 'snow',\n",
              " 'stormemma',\n",
              " 'today',\n",
              " 'usa']"
            ]
          },
          "metadata": {
            "tags": []
          },
          "execution_count": 47
        }
      ]
    }
  ]
}